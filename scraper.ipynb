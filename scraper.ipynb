{
 "cells": [
  {
   "cell_type": "code",
   "execution_count": 1,
   "metadata": {},
   "outputs": [],
   "source": [
    "import bs4 as bs\n",
    "import lxml\n",
    "import urllib.request\n",
    "import csv"
   ]
  },
  {
   "cell_type": "code",
   "execution_count": 2,
   "metadata": {},
   "outputs": [
    {
     "name": "stdout",
     "output_type": "stream",
     "text": [
      "1) Albury.csv created sucessfully\n",
      "2) BadgerysCreek.csv created sucessfully\n",
      "3) Cobar.csv created sucessfully\n",
      "4) CoffsHarbour.csv created sucessfully\n",
      "5) Moree.csv created sucessfully\n",
      "6) Newcastle.csv created sucessfully\n",
      "7) NorahHead.csv created sucessfully\n",
      "8) NorfolkIsland.csv created sucessfully\n",
      "9) Penri.csv created sucessfully\n",
      "10) Richmond.csv created sucessfully\n",
      "11) Sydney.csv created sucessfully\n",
      "12) SydneyAirpor.csv created sucessfully\n",
      "13) WaggaWagga.csv created sucessfully\n",
      "14) Williamtown.csv created sucessfully\n",
      "15) Wollongong.csv created sucessfully\n",
      "16) Canberra.csv created sucessfully\n",
      "17) Tuggeranong.csv created sucessfully\n",
      "18) MountGinini.csv created sucessfully\n",
      "19) Ballara.csv created sucessfully\n",
      "20) Bendigo.csv created sucessfully\n",
      "21) Sale.csv created sucessfully\n",
      "22) MelbourneAirpor.csv created sucessfully\n",
      "23) Melbourne.csv created sucessfully\n",
      "24) Mildura.csv created sucessfully\n",
      "25) Nhi.csv created sucessfully\n",
      "26) Portland.csv created sucessfully\n",
      "27) Watsonia.csv created sucessfully\n",
      "28) Dartmoor.csv created sucessfully\n",
      "29) Brisbane.csv created sucessfully\n",
      "30) Cairns.csv created sucessfully\n",
      "31) GoldCoas.csv created sucessfully\n",
      "32) Townsville.csv created sucessfully\n",
      "33) Adelaide.csv created sucessfully\n",
      "34) MountGambier.csv created sucessfully\n",
      "35) Nuriootpa.csv created sucessfully\n",
      "36) Woomera.csv created sucessfully\n",
      "37) Albany.csv created sucessfully\n",
      "38) Witchcliffe.csv created sucessfully\n",
      "39) PearceRAAF.csv created sucessfully\n",
      "40) PerthAirpor.csv created sucessfully\n",
      "41) Per.csv created sucessfully\n",
      "42) SalmonGums.csv created sucessfully\n",
      "43) Walpole.csv created sucessfully\n",
      "44) Hobar.csv created sucessfully\n",
      "45) Launceston.csv created sucessfully\n",
      "46) AliceSprings.csv created sucessfully\n",
      "47) Darwin.csv created sucessfully\n",
      "48) Katherine.csv created sucessfully\n",
      "49) Uluru.csv created sucessfully\n"
     ]
    }
   ],
   "source": [
    "sauce = urllib.request.urlopen('https://karki23.github.io/Weather-Data/assignment.html').read()\n",
    "\n",
    "srccode = bs.BeautifulSoup(sauce,'lxml')\n",
    "\n",
    "cities = []\n",
    "for i in srccode.find_all('a'):\n",
    "    cities.append(i.get('href'))\n",
    "\n",
    "count=0\n",
    "for city in cities:\n",
    "    count+=1\n",
    "    filename = r'dataset\\\\' + str(count) + '- ' + city.strip('.html') + '.csv'\n",
    "    with open(filename,'w',newline = '') as f:\n",
    "        sauce_city = urllib.request.urlopen('https://karki23.github.io/Weather-Data/'+city).read()\n",
    "        srccode_city = bs.BeautifulSoup(sauce_city,'lxml')\n",
    "        data=[]\n",
    "        tr = srccode_city.find_all('tr')\n",
    "        for row in tr:\n",
    "            if row.find('th'):\n",
    "                data.append([header.text for header in row.find_all('th')])\n",
    "            else:\n",
    "                td = row.find_all('td')\n",
    "                data.append([row.text for row in td])\n",
    "        csv.writer(f).writerows(data)\n",
    "        \n",
    "        print(str(count) + ') ' + city.strip('.html') + '.csv' + ' created sucessfully')"
   ]
  },
  {
   "cell_type": "code",
   "execution_count": null,
   "metadata": {},
   "outputs": [],
   "source": []
  }
 ],
 "metadata": {
  "kernelspec": {
   "display_name": "Python 3",
   "language": "python",
   "name": "python3"
  },
  "language_info": {
   "codemirror_mode": {
    "name": "ipython",
    "version": 3
   },
   "file_extension": ".py",
   "mimetype": "text/x-python",
   "name": "python",
   "nbconvert_exporter": "python",
   "pygments_lexer": "ipython3",
   "version": "3.6.5"
  }
 },
 "nbformat": 4,
 "nbformat_minor": 2
}
